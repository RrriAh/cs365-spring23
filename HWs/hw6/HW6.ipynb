{
 "cells": [
  {
   "cell_type": "markdown",
   "metadata": {},
   "source": [
    "# Distinct element estimation using k-th min \n",
    "\n",
    "In the lecture, we studied the algorithm named Idealized $F_0$ estimation (slide 19). The algorithm uses a random hash function to map elements from the stream to float values between 0 and 1. Ultimately, it maintains the smallest hash value $V$ and outputs ${1\\over V}-1$ as the estimate $\\tilde{F}_0$ for the number of distinct elements.\n",
    "\n",
    "This algorithm uses the idea that the expected value of the smallest hash value is $1\\over F_0+1$, where $F_0$ is the number of distinct elements. In fact, we can generally use the $k$-th smallest hash value $V_k$ for $k=1,2,\\dots$. We will use the results from exercise 4 to conduct experiments to see how different $k$ values affect the accuracy of your estimate."
   ]
  },
  {
   "cell_type": "markdown",
   "metadata": {},
   "source": [
    "[Optional]: Let m be the length of the stream. You can maintaining the k-th smallest element in an unsorted list in time $O(m\\log k)$ using min heap, see https://docs.python.org/3/library/heapq.html. "
   ]
  },
  {
   "cell_type": "code",
   "execution_count": 77,
   "metadata": {},
   "outputs": [],
   "source": [
    "# Import packages needed.\n",
    "import random, math\n",
    "import numpy as np\n",
    "import matplotlib.pyplot as plt"
   ]
  },
  {
   "cell_type": "markdown",
   "metadata": {},
   "source": [
    "To test the effect of k, we must first implement a function that takes a data sequence, hash each element to a value between 0 and 1, and returns the k-th smallest hash value. Python has a built-in hash function hash() that takes any hashable object and returns an integer hash. To convert a hash value to a float, use modular the hash with a large int and divide by it, for instance, $MAXINT=2^{63}-1$."
   ]
  },
  {
   "cell_type": "code",
   "execution_count": 78,
   "metadata": {},
   "outputs": [],
   "source": [
    "import sys\n",
    "MAXINT = sys.maxsize"
   ]
  },
  {
   "cell_type": "code",
   "execution_count": 79,
   "metadata": {},
   "outputs": [],
   "source": [
    "def kth_smallest_hash_value(input_list, k):\n",
    "# Write your code here\n",
    "    hashes = []\n",
    "    for i in input_list:\n",
    "        hashfloat = hash(i) % MAXINT / MAXINT\n",
    "        hashes.append(hashfloat)\n",
    "    hashes.sort()\n",
    "    return hashes[k-1]"
   ]
  },
  {
   "cell_type": "markdown",
   "metadata": {},
   "source": [
    "Now let us test k values between 1 to 10. For each k, we will generate a list of 1000 random **strings** using ``str(random.uniform(0,100))``, and estimate its cardinality via the returned value from the function ``kth_smallest_hash_value`` you implemented. For each k, repeat this process 100 times and record the average and std of the estimates. Finally, generate a plot with error bars to show the relation between estimates and k values. Note that the std for small k can be very large, so you may need to set plt.ylim(-1000, 10000) to cap the y-axis for better visualization."
   ]
  },
  {
   "cell_type": "code",
   "execution_count": 80,
   "metadata": {},
   "outputs": [
    {
     "data": {
      "image/png": "[encoded data removed]",
      "text/plain": [
       "<Figure size 432x288 with 1 Axes>"
      ]
     },
     "metadata": {
      "needs_background": "light"
     },
     "output_type": "display_data"
    }
   ],
   "source": [
    "# Write your code here\n",
    "r = [1,2,3,4,5,6,7,8,9,10]\n",
    "avg_std = np.zeros((10,2))\n",
    "for k in r:\n",
    "    cardiset = np.array([])\n",
    "    for i in range (100):\n",
    "        str_list = [str(random.uniform(0, 100)) for _ in range(1000)]\n",
    "        v1 = kth_smallest_hash_value(str_list, k)\n",
    "        cardi = 1/v1 -1 #F0\n",
    "        cardiset = np.append(cardiset,cardi)\n",
    "    avg_std[k-1][0] = np.mean(cardiset)\n",
    "    avg_std[k-1][1] = np.std(cardiset)\n",
    "avg = list(avg_std[i][0] for i in range(10))\n",
    "std = list(avg_std[i][1] for i in range(10))\n",
    "\n",
    "plt.errorbar(r, avg, yerr=std, fmt='o', capsize=5)\n",
    "plt.title('Cardinality Estimation with Kth Smallest Hash Value')\n",
    "plt.xlabel('k')\n",
    "plt.ylabel('Estimated Cardinality')\n",
    "plt.show()\n",
    "\n",
    "       "
   ]
  },
  {
   "cell_type": "markdown",
   "metadata": {},
   "source": [
    "## The median trick useful technique (slide 13)\n",
    "\n",
    "Please implement the function ``median_trick`` below. "
   ]
  },
  {
   "cell_type": "code",
   "execution_count": 133,
   "metadata": {},
   "outputs": [],
   "source": [
    "def median_trick(generator, expectation, var, eps, delta):\n",
    "    '''\n",
    "    Input:\n",
    "        generator - a function that generates one sample from a distribution when being called.\n",
    "        expectation - Expectation of the distribution\n",
    "        var - Variance of the distribution\n",
    "        eps - epsilon (accuracy parameter) as defined in slide 13\n",
    "        delta - delta (confidence parameter) as defined in slide 13\n",
    "    Output:\n",
    "        estimated value Q\n",
    "    '''\n",
    "    # Write your code here\n",
    "    t = int(math.ceil(math.log(1/delta, 2)))\n",
    "    k = int(math.ceil(var/((eps*expectation)**2)))\n",
    "    sample = np.zeros((t,k))\n",
    "    for i in range(t):\n",
    "        val = 0\n",
    "        for j in range(k):\n",
    "            sample[i][j]= generator()\n",
    "    samplesum = np.sum(sample, axis=1)\n",
    "    median = np.median(samplesum/k)\n",
    "    return median * (1 + eps) - expectation * eps\n",
    "\n"
   ]
  },
  {
   "cell_type": "markdown",
   "metadata": {},
   "source": [
    "Now we want to test the function with the following idea. Assume Q=2. The unbiased estimator, X of Q, generates estimates that follow a normal distribution with variance equal to 1. The generator for X is already given below as ``normal_generator``. Please generate two plots below. \n",
    "\n",
    "- Set eps=0.1, and test how the delta affects the estimates. Range delta in [1e-6, 1e-4, 1e-3, 0.01, 0.1]; repeat the estimation 100 times for each delta value. Generate a plot with std as error bars to show how the average estimates change as the delta changes.\n",
    "\n",
    "- Set delta=0.1, and test how the epsilon affects the estimates. Range epsilon in [0.01, 0.02, 0.05, 0.1, 0.2]; repeat the estimation 100 times for each epsilon value. Generate a plot with std as error bars to show how the average estimates change as the epsilon changes."
   ]
  },
  {
   "cell_type": "code",
   "execution_count": 134,
   "metadata": {},
   "outputs": [],
   "source": [
    "# Don't change\n",
    "def normal_generator():\n",
    "    return np.random.normal(2,1)"
   ]
  },
  {
   "cell_type": "code",
   "execution_count": 149,
   "metadata": {},
   "outputs": [
    {
     "data": {
      "image/png": "[encoded data removed]",
      "text/plain": [
       "<Figure size 432x288 with 1 Axes>"
      ]
     },
     "metadata": {
      "needs_background": "light"
     },
     "output_type": "display_data"
    },
    {
     "data": {
      "image/png": "[encoded data removed]",
      "text/plain": [
       "<Figure size 432x288 with 1 Axes>"
      ]
     },
     "metadata": {
      "needs_background": "light"
     },
     "output_type": "display_data"
    }
   ],
   "source": [
    "# Write your code here\n",
    "def plt1(eps=0.1, delt=[1e-6, 1e-4, 1e-3, 0.01, 0.1]):\n",
    "    Q_avg = []\n",
    "    Q_std = []\n",
    "    for d in delt:\n",
    "        Qset = []\n",
    "        for _ in range(100):\n",
    "            Qi = median_trick(normal_generator, 2, 1, eps, d)\n",
    "            Qset.append(Qi)\n",
    "        Q_avg.append(np.mean(Qset))\n",
    "        Q_std.append(np.std(Qset))\n",
    "    plt.errorbar(delt, Q_avg, yerr=Q_std, fmt='o-')\n",
    "    plt.xscale('log')\n",
    "    plt.title('Plot 1')\n",
    "    plt.xlabel('delta')\n",
    "    plt.ylabel('Estimated Q')\n",
    "    plt.show()\n",
    "\n",
    "\n",
    "def plt2 (delta=0.1,epsl = [0.01, 0.02, 0.05, 0.1, 0.2]):\n",
    "    Q_avg = np.zeros(5)\n",
    "    Q_std = np.zeros(5)\n",
    "    for m in range(5):\n",
    "        Qset = np.array([])\n",
    "        for i in range(100):\n",
    "            s = normal_generator\n",
    "            Qi = median_trick(s, 2, 1, epsl[m], delta)\n",
    "            Qset = np.append(Qset,Qi)\n",
    "        Q_avg[m] = np.mean(Qset)\n",
    "        Q_std[m] = np.std(Qset)\n",
    "    plt.errorbar(epsl, Q_avg, yerr=Q_std,fmt='o-')\n",
    "    plt.xscale('log')\n",
    "    plt.title('Plot 2')\n",
    "    plt.xlabel('epsilon')\n",
    "    plt.ylabel('Estimated Q')\n",
    "    plt.show()\n",
    "\n",
    "plt1()        \n",
    "plt2()"
   ]
  },
  {
   "cell_type": "markdown",
   "metadata": {},
   "source": [
    "## Morris Algorithm (slide 45)\n",
    "\n",
    "Morris algorithm maintains a counter c that, for every element in the stream, itself increments by 1 with probability $1\\over 2^c$. In the end, it outputs an estimate as $2^c-1$.\n",
    "\n",
    "In this section, we will change the base of this counter (slide 51). Instead of using 2 only, we use any base $1+\\alpha$. We now increase the counter c with probability $1\\over (1+\\alpha)^c$. First, let us implement the function ``morris_update_base_alpha`` below. **This function is called whenever we see an element from the stream to update the counter.**"
   ]
  },
  {
   "cell_type": "code",
   "execution_count": 155,
   "metadata": {},
   "outputs": [],
   "source": [
    "def morris_update_base_alpha(counter, alpha):\n",
    "    '''\n",
    "    Input:\n",
    "        counter - current value of counter c\n",
    "        alpha - as defined in slide 51 alpha\n",
    "    Output:\n",
    "        updated value of counter c\n",
    "    '''\n",
    "    p = 1/((1+alpha)**counter)\n",
    "    if np.random.rand() <= p:\n",
    "        counter +=1\n",
    "        return counter\n",
    "    else:\n",
    "        return counter\n",
    "        \n"
   ]
  },
  {
   "cell_type": "markdown",
   "metadata": {},
   "source": [
    "Now let us test the function with the edge list file \"soc-hamsterster.edges\" in the same folder. Reading the file line by line in python can generate a stream of strings. Counting the number of strings/lines in this file tells us the number of edges of this \"soc-hamsterster\" graph. Let us try different alpha values ranging from 2 to 9. Again, for each alpha, estimate the number of lines in the edge list file using the morris algorithm (the key component of which is ``morris_update_base_alpha``), and repeat this 100 times. Besides, check how many bits are needed to maintain the counter via ``math.ceil(math.log(counter, 2))`` at the end of each estimation. Finally, generate two plots with std as error bars to show \n",
    "\n",
    "- How the average estimate changes as the alpha value increases. \n",
    "- How the space usage (in bits) changes as the alpha value increases."
   ]
  },
  {
   "cell_type": "code",
   "execution_count": 160,
   "metadata": {},
   "outputs": [
    {
     "data": {
      "image/png": "[encoded data removed]",
      "text/plain": [
       "<Figure size 432x288 with 1 Axes>"
      ]
     },
     "metadata": {
      "needs_background": "light"
     },
     "output_type": "display_data"
    },
    {
     "data": {
      "image/png": "[encoded data removed]",
      "text/plain": [
       "<Figure size 432x288 with 1 Axes>"
      ]
     },
     "metadata": {
      "needs_background": "light"
     },
     "output_type": "display_data"
    }
   ],
   "source": [
    "def estimate_edge_count(alpha):\n",
    "    counter = 0\n",
    "    space_bits = 0\n",
    "    with open(\"soc-hamsterster.edges\", \"r\") as f:\n",
    "        for line in f:\n",
    "            counter = morris_update_base_alpha(counter, alpha)\n",
    "            space_bits = math.ceil(math.log(counter, 2))\n",
    "    edge = ((1+alpha) ** counter - 1)\n",
    "    return edge, space_bits\n",
    "\n",
    "al = [2,3,4,5,6,7,8,9]\n",
    "avg_edges = np.array([])\n",
    "std_edges = np.array([])\n",
    "avg_bits = np.array([])\n",
    "for i in range(8):    \n",
    "    edges = np.array([])\n",
    "    bits = np.array([])\n",
    "    for r in range(100):\n",
    "        edge,space_bits = estimate_edge_count(al[i])\n",
    "        edges =np.append(edges,edge)\n",
    "        bits = np.append(bits,space_bits)\n",
    "    avg_edges = np.append(avg_edges,np.mean(edges))    \n",
    "    std_edges = np.append(std_edges,np.std(edges))    \n",
    "    avg_bits = np.append(avg_bits,np.mean(bits))    \n",
    "\n",
    "plt.errorbar(al, avg_edges, yerr=std_edges, fmt='o-')\n",
    "plt.xlabel('Alpha')\n",
    "plt.ylabel('Number of lines')\n",
    "plt.show()    \n",
    "plt.plot(al, avg_bits, 'o-')\n",
    "plt.xlabel('Alpha')\n",
    "plt.ylabel('Bits')\n",
    "plt.show()"
   ]
  }
 ],
 "metadata": {
  "kernelspec": {
   "display_name": "base",
   "language": "python",
   "name": "python3"
  },
  "language_info": {
   "codemirror_mode": {
    "name": "ipython",
    "version": 3
   },
   "file_extension": ".py",
   "mimetype": "text/x-python",
   "name": "python",
   "nbconvert_exporter": "python",
   "pygments_lexer": "ipython3",
   "version": "3.8.5"
  }
 },
 "nbformat": 4,
 "nbformat_minor": 4
}
