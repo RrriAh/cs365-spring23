{
 "cells": [
  {
   "cell_type": "markdown",
   "metadata": {},
   "source": [
    "# Programming Assignment: Email Spam Naive Bayes\n",
    "\n",
    "## Overview/Task\n",
    "\n",
    "The goal of this programming assignment is to build a naive bayes classifier from scratch that can determine whether email text should be labled spam or not spam based on its contents\n",
    "\n",
    "## Review\n",
    "\n",
    "Remeber that a naive bayes classifier realizes the following probability:\n",
    "\n",
    "$$P(Y|X_1,X_2,...,X_n) \\propto P(Y)*P(Y|X_1)*P(Y|X_2)*...*P(Y|X_n)$$\n",
    "\n",
    "Where $Y$ is a binary class {0,1}\n",
    "\n",
    "Where $X_i$ is a feature of the input\n",
    "\n",
    "The classifier will decide what class each input belongs to based on highest probability from the equation above\n",
    "\n",
    "## Reminders\n",
    "\n",
    "Please remember that the classifier must be written from scratch; do NOT use any libraries that implement the classifier for you, such as but not limited to sklearn.\n",
    "\n",
    "You CAN, however, use SKlearn to split up the dataset between testing and training.\n",
    "\n",
    "Feel free to look up any tasks you are not familiar with, e.g. the function call to read a csv\n",
    "\n",
    "## Task list/Recommended Order\n",
    "\n",
    "In order to provide some guidance, I am giving the following order/checklist to solve this task:\n",
    "<ol>\n",
    "  <li>Compute the \"prior\": P(Y) for Y = 0 and Y = 1</li>\n",
    "  <li>Compute the \"likelihood\": $P(Y|X_n)$</li>\n",
    "  <li>Write code that uses the two items above to make a decision on whether or not an email is spam or ham (aka not spam)</li>\n",
    "  <li>Write code to evaluate your model. Test model on training data to debug </li>\n",
    "  <li>Test model on testing data to debug </li>\n",
    "</ol>"
   ]
  },
  {
   "cell_type": "code",
   "execution_count": 11,
   "metadata": {},
   "outputs": [],
   "source": [
    "#import cell\n",
    "import numpy as np\n",
    "import pandas as pd\n",
    "import random\n",
    "import csv\n"
   ]
  },
  {
   "cell_type": "markdown",
   "metadata": {},
   "source": [
    "## Function template"
   ]
  },
  {
   "cell_type": "code",
   "execution_count": 18,
   "metadata": {},
   "outputs": [],
   "source": [
    "\n",
    "def prior(df):\n",
    "    ham_prior = 0\n",
    "    spam_prior =  0\n",
    "    '''YOUR CODE HERE'''\n",
    "    emailC = len(df)\n",
    "    spam = df.loc[df[\"label\"]==\"spam\"]\n",
    "    spamC = spam[\"label\"].value_counts()[0] #value_count() returns a series.\n",
    "    ham = df.loc[df[\"label\"]==\"ham\"]\n",
    "    hamC = ham[\"label\"].value_counts()[0] #value_count() returns a series.\n",
    "    ham_prior = hamC/emailC\n",
    "    spam_prior = spamC/emailC\n",
    "    \n",
    "    '''END'''\n",
    "    return ham_prior, spam_prior\n",
    "    \n",
    "\n",
    "def likelihood(df):\n",
    "    ham_like_dict = {}\n",
    "    spam_like_dict = {}\n",
    "    '''YOUR CODE HERE'''\n",
    "    spam = df.loc[df['label']=='spam']\n",
    "    ham = df.loc[df['label']=='ham']\n",
    "    for x in range(len(spam)): \n",
    "        wordset = set([i.strip(\"/.,:?!'\\\"\") for i in spam['text'].values[x].split()])\n",
    "        for e in wordset:\n",
    "            if len(e)>3:                \n",
    "                if e not in spam_like_dict:\n",
    "                    spam_like_dict[e]=1\n",
    "                else:\n",
    "                    spam_like_dict[e]+=1\n",
    "    for y in range(len(ham)):\n",
    "        wordset = set([i.strip(\"/.,:?!'\\\"\") for i in ham['text'].values[y].split()])\n",
    "        for e in wordset:\n",
    "            if len(e)>3:\n",
    "                if e not in ham_like_dict:\n",
    "                    ham_like_dict[e]=1\n",
    "                else:\n",
    "                     ham_like_dict[e]+=1\n",
    "    for e in ham_like_dict:\n",
    "        ham_like_dict[e] = ham_like_dict[e]/len(ham)\n",
    "    for e in spam_like_dict:\n",
    "        spam_like_dict[e] = spam_like_dict[e]/len(spam)\n",
    "    ham_like_dict = dict(sorted(ham_like_dict.items(), key=lambda item: item[1],reverse=True))\n",
    "    spam_like_dict = dict(sorted(spam_like_dict.items(), key=lambda item: item[1],reverse=True))\n",
    "    '''END'''\n",
    "    \n",
    "    return ham_like_dict, spam_like_dict\n",
    "\n",
    "def predict(ham_prior, spam_prior, ham_like_dict, spam_like_dict, text):\n",
    "    '''\n",
    "    prediction function that uses prior and likelihood structure to compute proportional posterior for a single line of text\n",
    "    '''\n",
    "    #ham_spam_decision = 1 if classified as spam, 0 if classified as normal/ham\n",
    "    ham_spam_decision = None\n",
    "\n",
    "    '''YOUR CODE HERE'''\n",
    "    #ham_posterior = posterior probability that the email is normal/ham\n",
    "    text_list=set([i.strip(\"/.,:?!'\\\"\") for i in text.split()])\n",
    "    haml = np.array([])\n",
    "    spaml = np.array([])\n",
    "    for e in text_list:\n",
    "        if e in ham_like_dict:\n",
    "            haml = np.append(haml,ham_like_dict[e])\n",
    "        else:\n",
    "            haml = np.append(haml,1./(len(ham_like_dict)+len(spam_like_dict)))\n",
    "        if e in spam_like_dict:\n",
    "            spaml = np.append(spaml,spam_like_dict[e])\n",
    "        else:\n",
    "            spaml = np.append(spaml,1./(len(ham_like_dict)+len(spam_like_dict)))\n",
    "    hamlikelihood=np.prod(haml)\n",
    "    spamlikelihood=np.prod(spaml)\n",
    "    #ham_posterior = hamlikelihood/(hamlikelihood*ham_prior+spamlikelihood*spam_prior)\n",
    "    #spam_posterior = posterior probability that the email is spam\n",
    "    #spam_posterior = spamlikelihood/(hamlikelihood*ham_prior+spamlikelihood*spam_prior)\n",
    "    if (spamlikelihood > hamlikelihood):\n",
    "        ham_spam_decision = 1\n",
    "    else:\n",
    "        ham_spam_decision = 0\n",
    "    '''END'''\n",
    "    return ham_spam_decision\n",
    "    \n",
    "\n",
    "def metrics(ham_prior, spam_prior, ham_like_dict, spam_like_dict, df):\n",
    "    '''\n",
    "    Calls \"predict\" function and report accuracy, precision, and recall of your prediction\n",
    "    '''\n",
    "    \n",
    "    '''YOUR CODE HERE'''\n",
    "    preHam,preSpam,accHam,accSpam = 0,0,0,0\n",
    "    Ham = len(df.loc[df['label']=='ham'])\n",
    "    Spam = len(df.loc[df['label']=='spam'])\n",
    "    for e in range(len(df)):\n",
    "        email = df['text'].values[e]\n",
    "        if predict(ham_prior,spam_prior,ham_like_dict,spam_like_dict, email)== 1:\n",
    "            preSpam +=1\n",
    "            if df['label'].values[e] == 'spam':\n",
    "                accSpam+=1\n",
    "        else:\n",
    "            preHam +=1\n",
    "            if df['label'].values[e] == 'ham':\n",
    "                accHam +=1\n",
    "    precision = accSpam/preSpam\n",
    "    recall = accSpam/Spam \n",
    "    acc = (accSpam+accHam)/(Spam+Ham)\n",
    "\n",
    "    \n",
    "    \n",
    "\n",
    "    '''END'''\n",
    "    return acc, precision, recall"
   ]
  },
  {
   "cell_type": "markdown",
   "metadata": {},
   "source": [
    "## Generate answers with your functions"
   ]
  },
  {
   "cell_type": "code",
   "execution_count": 13,
   "metadata": {},
   "outputs": [
    {
     "name": "stdout",
     "output_type": "stream",
     "text": [
      "<class 'pandas.core.frame.DataFrame'>\n",
      "RangeIndex: 2398 entries, 0 to 2397\n",
      "Data columns (total 5 columns):\n",
      " #   Column        Non-Null Count  Dtype \n",
      "---  ------        --------------  ----- \n",
      " 0   Unnamed: 0.1  2398 non-null   int64 \n",
      " 1   Unnamed: 0    2398 non-null   int64 \n",
      " 2   label         2398 non-null   object\n",
      " 3   text          2398 non-null   object\n",
      " 4   label_num     2398 non-null   int64 \n",
      "dtypes: int64(3), object(2)\n",
      "memory usage: 93.8+ KB\n"
     ]
    }
   ],
   "source": [
    "#loading in the training data\n",
    "train_df = pd.read_csv(\"./TRAIN_balanced_ham_spam.csv\")\n",
    "test_df = pd.read_csv(\"./TEST_balanced_ham_spam.csv\")\n",
    "df = train_df\n",
    "df.info()"
   ]
  },
  {
   "cell_type": "code",
   "execution_count": 14,
   "metadata": {},
   "outputs": [
    {
     "name": "stdout",
     "output_type": "stream",
     "text": [
      "0.5 0.5\n"
     ]
    }
   ],
   "source": [
    "#compute the prior\n",
    "\n",
    "ham_prior, spam_prior = prior(df)\n",
    "\n",
    "print(ham_prior, spam_prior)\n"
   ]
  },
  {
   "cell_type": "code",
   "execution_count": 22,
   "metadata": {},
   "outputs": [
    {
     "name": "stdout",
     "output_type": "stream",
     "text": [
      "\n"
     ]
    }
   ],
   "source": [
    "# compute likelihood\n",
    "\n",
    "ham_like_dict, spam_like_dict = likelihood(df)\n",
    "likelihood(df)\n"
   ]
  },
  {
   "cell_type": "code",
   "execution_count": 23,
   "metadata": {},
   "outputs": [
    {
     "name": "stdout",
     "output_type": "stream",
     "text": [
      "1\n",
      "0\n",
      "1\n"
     ]
    }
   ],
   "source": [
    "# Test your predict function with some example TEXT\n",
    "\n",
    "some_text_example = \"write your test case here\"\n",
    "print(predict(ham_prior, spam_prior, ham_like_dict, spam_like_dict, some_text_example))\n",
    "some_text_example = \"We appreciate your help.\"\n",
    "print(predict(ham_prior, spam_prior, ham_like_dict, spam_like_dict, some_text_example))\n",
    "some_text_example = \"Click for free goods\"\n",
    "print(predict(ham_prior, spam_prior, ham_like_dict, spam_like_dict, some_text_example))"
   ]
  },
  {
   "cell_type": "code",
   "execution_count": 21,
   "metadata": {},
   "outputs": [
    {
     "name": "stdout",
     "output_type": "stream",
     "text": [
      "0.845 0.9859154929577465 0.7\n"
     ]
    }
   ],
   "source": [
    "# Predict on test_df and compute metrics \n",
    "    \n",
    "df = test_df\n",
    "\n",
    "acc, precision, recall = metrics(ham_prior, spam_prior, ham_like_dict, spam_like_dict, df)\n",
    "print(acc, precision, recall)"
   ]
  }
 ],
 "metadata": {
  "kernelspec": {
   "display_name": "Python 3",
   "language": "python",
   "name": "python3"
  },
  "language_info": {
   "codemirror_mode": {
    "name": "ipython",
    "version": 3
   },
   "file_extension": ".py",
   "mimetype": "text/x-python",
   "name": "python",
   "nbconvert_exporter": "python",
   "pygments_lexer": "ipython3",
   "version": "3.11.1"
  },
  "vscode": {
   "interpreter": {
    "hash": "108095e740c160118120ad5e22811b4aca9f414a6f3c55c969835bc2c10848d1"
   }
  }
 },
 "nbformat": 4,
 "nbformat_minor": 4
}
